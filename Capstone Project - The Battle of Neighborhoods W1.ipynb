{
    "cells": [
        {
            "cell_type": "markdown",
            "metadata": {},
            "source": "<h1>Capstone Project - The Battle of Restaurant Location</h1>\n</n>\n<2> Wang Pan , July 2021"
        },
        {
            "cell_type": "markdown",
            "metadata": {},
            "source": "<h2>Part 1 - Problem and Background\n   "
        },
        {
            "cell_type": "markdown",
            "metadata": {},
            "source": "<h3> Scenario: </h3> </n>  An optimistic invester is looking to start her restaurant business in Moncton, New Brunswick, Canada. She is confident that her delicious cuisine and cozy dinning area will make her restaurant a great success. However, she is little worried about her starting budget, as she won't be able to decorate the restaurant up to her standard if she had to spend so much on advertisment. Thus, she would like to see some data in order to select a better location to start her restaurant.\n\n\n</n>\n</n>\n<h3> Introduction: </h3> </n> The pandemic had a significant impact on catering industry. With the rate of vaccinated population growing up, some in Moncton, NB, CA, believe it is time to make plan for opening their dream restuarant. Naturally, some useful data and graphics will make a huge difference for those people who have been wrestling to find the best restuarant location to suit their needs. </n> In this project, my goal is to be able to recommend resturant location by comparing then visualizing the difference of population, crime rate, and resident income, in different area/location in Moncton.\n\n"
        },
        {
            "cell_type": "markdown",
            "metadata": {},
            "source": "<h4> Part 2 - Data"
        },
        {
            "cell_type": "markdown",
            "metadata": {},
            "source": "Population Data from Statistics Canada: (2016)\nhttps://www12.statcan.gc.ca/census-recensement/2016/dp-pd/prof/details/page.cfm?Lang=E&Geo1=POPC&Code1=0539&Geo2=PR&Code2=13&SearchText=Moncton&SearchType=Begins&SearchPR=01&B1=All&GeoLevel=PR&GeoCode=0539&TABID=1&type=0\n\"2016_Population_Moncton.csv\"\n\nIncome Data from Statistics Canada: (2016)\nhttps://www12.statcan.gc.ca/census-recensement/2016/dp-pd/prof/details/page.cfm?Lang=E&Geo1=CMACA&Code1=305&Geo2=PR&Code2=13&SearchText=Moncton&SearchType=Begins&SearchPR=01&B1=Income&TABID=1&type=0\n\"2016_Income_Moncton.csv\"\n\nhttps://www12.statcan.gc.ca/census-recensement/2016/dp-pd/prof/details/page.cfm?Lang=E&Geo1=CMACA&Code1=305&Geo2=PR&Code2=13&SearchText=Moncton&SearchType=Begins&SearchPR=01&B1=Visible%20minority&TABID=1&type=0\n\"2016_VisibleMinority_Moncton.csv\"\n\nCrime Data from Codiac Regional Policing Authority (2020 Q1-Q4)\nhttps://crpa-aprc.ca/crpa/codiac-rcmp/quarterly-reports/\n\n<h5> I will first attempt to extract and normalize needed information from above listed source then try to combine those information to map data from Foursquare.</h5>\n\n\n"
        },
        {
            "cell_type": "code",
            "execution_count": null,
            "metadata": {},
            "outputs": [],
            "source": ""
        }
    ],
    "metadata": {
        "kernelspec": {
            "display_name": "Python 3.7",
            "language": "python",
            "name": "python3"
        },
        "language_info": {
            "codemirror_mode": {
                "name": "ipython",
                "version": 3
            },
            "file_extension": ".py",
            "mimetype": "text/x-python",
            "name": "python",
            "nbconvert_exporter": "python",
            "pygments_lexer": "ipython3",
            "version": "3.7.10"
        }
    },
    "nbformat": 4,
    "nbformat_minor": 4
}